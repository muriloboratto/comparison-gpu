{
 "cells": [
  {
   "cell_type": "markdown",
   "id": "fRdbEJCUyJLj",
   "metadata": {
    "id": "fRdbEJCUyJLj"
   },
   "source": [
    "# Comparison Fortran Codes APIs on GPU Environment"
   ]
  },
  {
   "cell_type": "code",
   "execution_count": null,
   "id": "f48e09af-246f-4e78-9025-f582aee5143a",
   "metadata": {
    "tags": []
   },
   "outputs": [],
   "source": [
    "!pgfortran --version"
   ]
  },
  {
   "cell_type": "code",
   "execution_count": null,
   "id": "59781887-2f2b-444a-8a4d-5a8067ebe651",
   "metadata": {},
   "outputs": [],
   "source": [
    "!nvfortran --version"
   ]
  },
  {
   "cell_type": "markdown",
   "id": "89507cf3-343c-496e-b0ce-1bdfe6ce0435",
   "metadata": {},
   "source": [
    "## Environment Modules on AIRIS"
   ]
  },
  {
   "cell_type": "markdown",
   "id": "ae011059-a2b1-48be-b313-4d4b3cf43769",
   "metadata": {},
   "source": [
    "These modules must be initialized before running the jupyter-notebook:\n",
    "```cpp\n",
    "Currently Loaded Modulefiles:\n",
    "    1) anaconda3/2023.07     \n",
    "    2) ucx/1.15.0\n",
    "    3) openmpi/4.1.5  \n",
    "    4) nvhpc/23.11\n",
    "    5) llvm/12.0.0\n",
    "```"
   ]
  },
  {
   "cell_type": "code",
   "execution_count": null,
   "id": "94595812-2147-4f30-b757-fc41842699a9",
   "metadata": {},
   "outputs": [],
   "source": [
    "#!module load anaconda3/2023.07 ucx/1.15.0 openmpi/4.1.5 nvhpc/23.11 llvm/12.0.0"
   ]
  },
  {
   "cell_type": "markdown",
   "id": "bzhJyfWIyJLr",
   "metadata": {
    "id": "bzhJyfWIyJLr"
   },
   "source": [
    "## `Matrix Multiple Benchmarks `"
   ]
  },
  {
   "cell_type": "markdown",
   "id": "XY0PHc4eyJLr",
   "metadata": {
    "id": "XY0PHc4eyJLr"
   },
   "source": [
    "### ⊗ Sequential"
   ]
  },
  {
   "cell_type": "code",
   "execution_count": null,
   "id": "DcJxHVSzyJLr",
   "metadata": {
    "colab": {
     "base_uri": "https://localhost:8080/"
    },
    "executionInfo": {
     "elapsed": 271,
     "status": "ok",
     "timestamp": 1666529352426,
     "user": {
      "displayName": "Murilo Boratto",
      "userId": "13998345321799991370"
     },
     "user_tz": 180
    },
    "id": "DcJxHVSzyJLr",
    "outputId": "745549f1-3ecd-4f11-bf6c-4271e6e598b6",
    "tags": []
   },
   "outputs": [],
   "source": [
    "%%writefile mm-sequential.f90\n",
    "program matrix_multiply_sequential\n",
    " implicit none\n",
    "\n",
    " integer :: n, i, j, k\n",
    " real, allocatable :: A(:,:), B(:,:), C(:,:)\n",
    " character(len=100) :: arg\n",
    "    \n",
    " integer :: start_count, end_count, rate, count_max\n",
    " real :: elapsed_time  \n",
    "\n",
    " ! Get the command-line argument for the matrix size\n",
    " call get_command_argument(1, arg)\n",
    " read(arg, *) n\n",
    "\n",
    " ! Allocate matrices\n",
    " allocate(A(n, n))\n",
    " allocate(B(n, n))\n",
    " allocate(C(n, n))\n",
    "\n",
    " ! Initialize matrices A and B\n",
    " call random_number(A)\n",
    " call random_number(B)\n",
    " C = 0.0\n",
    "\n",
    " ! Get the clock rate (ticks per second) and the maximum count value\n",
    " call system_clock(count_max=count_max, count_rate=rate)\n",
    "\n",
    " ! Get the start time\n",
    " call system_clock(start_count)\n",
    "\n",
    " do i = 1, n\n",
    "    do j = 1, n\n",
    "       do k = 1, n\n",
    "          C(i, j) = C(i, j) + A(i, k) * B(k, j)\n",
    "       end do\n",
    "    end do\n",
    " end do\n",
    "\n",
    " ! Get the end time\n",
    " call system_clock(end_count)\n",
    "\n",
    " ! Calculate the elapsed time in seconds\n",
    " elapsed_time = real(end_count - start_count) / rate\n",
    "\n",
    " ! Print the elapsed time\n",
    " print '(I0, \"  \", F0.2)', n, elapsed_time\n",
    "\n",
    " ! Deallocate matrices\n",
    " deallocate(A)\n",
    " deallocate(B)\n",
    " deallocate(C)\n",
    "  \n",
    "end program matrix_multiply_sequential"
   ]
  },
  {
   "cell_type": "code",
   "execution_count": null,
   "id": "G1nTnPVxyJLt",
   "metadata": {
    "id": "G1nTnPVxyJLt",
    "tags": []
   },
   "outputs": [],
   "source": [
    "!nvfortran mm-sequential.f90 -o mm -O3"
   ]
  },
  {
   "cell_type": "code",
   "execution_count": null,
   "id": "OV8zXBHkyJLt",
   "metadata": {
    "colab": {
     "base_uri": "https://localhost:8080/"
    },
    "executionInfo": {
     "elapsed": 281,
     "status": "ok",
     "timestamp": 1666529362942,
     "user": {
      "displayName": "Murilo Boratto",
      "userId": "13998345321799991370"
     },
     "user_tz": 180
    },
    "id": "OV8zXBHkyJLt",
    "outputId": "ee343f9f-65cc-4563-ce60-5bbbd7fa389b",
    "tags": []
   },
   "outputs": [],
   "source": [
    "!./mm-sequential 1000"
   ]
  },
  {
   "cell_type": "markdown",
   "id": "8XMxBMeLyJL1",
   "metadata": {
    "id": "8XMxBMeLyJL1"
   },
   "source": [
    "### ⊗ OpenMP"
   ]
  },
  {
   "cell_type": "code",
   "execution_count": null,
   "id": "C_m8PlpyyJL1",
   "metadata": {
    "colab": {
     "base_uri": "https://localhost:8080/"
    },
    "executionInfo": {
     "elapsed": 246,
     "status": "ok",
     "timestamp": 1666529441953,
     "user": {
      "displayName": "Murilo Boratto",
      "userId": "13998345321799991370"
     },
     "user_tz": 180
    },
    "id": "C_m8PlpyyJL1",
    "outputId": "4cea6da7-f313-4504-85ef-04dfb23cca36",
    "tags": []
   },
   "outputs": [],
   "source": [
    "%%writefile mm-omp.f90\n",
    "program matrix_multiply_openmp\n",
    " use omp_lib\n",
    " implicit none\n",
    "\n",
    " integer :: n, i, j, k\n",
    " real, allocatable :: A(:,:), B(:,:), C(:,:)\n",
    " character(len=100) :: arg\n",
    "    \n",
    " integer :: start_count, end_count, rate, count_max\n",
    " real :: elapsed_time  \n",
    "\n",
    " ! Get the command-line argument for the matrix size\n",
    " call get_command_argument(1, arg)\n",
    " read(arg, *) n\n",
    "\n",
    " ! Allocate matrices\n",
    " allocate(A(n, n))\n",
    " allocate(B(n, n))\n",
    " allocate(C(n, n))\n",
    "\n",
    " ! Initialize matrices A and B\n",
    " call random_number(A)\n",
    " call random_number(B)\n",
    " C = 0.0\n",
    "\n",
    " ! Get the clock rate (ticks per second) and the maximum count value\n",
    " call system_clock(count_max=count_max, count_rate=rate)\n",
    "\n",
    " ! Get the start time\n",
    " call system_clock(start_count)\n",
    "\n",
    "!$omp parallel do private(i,j,k) shared(A,B,C)\n",
    " do i = 1, n\n",
    "    do j = 1, n\n",
    "       do k = 1, n\n",
    "          C(i, j) = C(i, j) + A(i, k) * B(k, j)\n",
    "       end do\n",
    "    end do\n",
    " end do\n",
    "!$omp end parallel do\n",
    "\n",
    " ! Get the end time\n",
    " call system_clock(end_count)\n",
    "\n",
    " ! Calculate the elapsed time in seconds\n",
    " elapsed_time = real(end_count - start_count) / rate\n",
    "\n",
    " ! Print the elapsed time\n",
    " print '(I0, \" x \", I0, \"  \", F0.2, \" seconds\")', n, n, elapsed_time\n",
    "\n",
    " ! Deallocate matrices\n",
    " deallocate(A)\n",
    " deallocate(B)\n",
    " deallocate(C)\n",
    "\n",
    "end program matrix_multiply_openmp"
   ]
  },
  {
   "cell_type": "code",
   "execution_count": null,
   "id": "2JgO0tpbyJL2",
   "metadata": {
    "id": "2JgO0tpbyJL2",
    "tags": []
   },
   "outputs": [],
   "source": [
    "!nvfortran mm-omp.f90 -o mm-omp -fopenmp -O3"
   ]
  },
  {
   "cell_type": "code",
   "execution_count": null,
   "id": "nFLmUncjyJL2",
   "metadata": {
    "colab": {
     "base_uri": "https://localhost:8080/"
    },
    "executionInfo": {
     "elapsed": 646,
     "status": "ok",
     "timestamp": 1666529486235,
     "user": {
      "displayName": "Murilo Boratto",
      "userId": "13998345321799991370"
     },
     "user_tz": 180
    },
    "id": "nFLmUncjyJL2",
    "outputId": "75aaae82-fedf-4579-9b6e-6e2a968cfdbf",
    "tags": []
   },
   "outputs": [],
   "source": [
    "!OMP_NUM_THREADS=32 ./mm-omp 1000"
   ]
  },
  {
   "cell_type": "markdown",
   "id": "eTtb7CD_yJL4",
   "metadata": {
    "id": "eTtb7CD_yJL4"
   },
   "source": [
    "### ⊗ OpenACC"
   ]
  },
  {
   "cell_type": "code",
   "execution_count": null,
   "id": "1cddbec8-7c85-4716-9daa-c0a1018a1190",
   "metadata": {
    "tags": []
   },
   "outputs": [],
   "source": [
    "%%writefile mm-openacc.f90\n",
    "program matrix_multiply\n",
    "  use openacc\n",
    "  implicit none\n",
    "\n",
    "  integer :: n, i, j, k\n",
    "  real, allocatable :: A(:,:), B(:,:), C(:,:)\n",
    "  character(len=100) :: arg\n",
    "    \n",
    "  integer :: start_count, end_count, rate, count_max\n",
    "  real :: elapsed_time  \n",
    "\n",
    "  ! Get the command-line argument for the matrix size\n",
    "  call get_command_argument(1, arg)\n",
    "  read(arg, *) n\n",
    "\n",
    "  ! Allocate matrices\n",
    "  allocate(A(n, n))\n",
    "  allocate(B(n, n))\n",
    "  allocate(C(n, n))\n",
    "\n",
    "  ! Initialize matrices A and B\n",
    "  call random_number(A)\n",
    "  call random_number(B)\n",
    "  C = 0.0\n",
    "\n",
    "  ! Get the clock rate (ticks per second) and the maximum count value\n",
    "  call system_clock(count_max=count_max, count_rate=rate)\n",
    "\n",
    "  ! Get the start time\n",
    "  call system_clock(start_count)\n",
    "\n",
    "  ! Matrix multiplication using OpenACC\n",
    "  !$acc data copyin(A, B), copyout(C)\n",
    "  !$acc parallel loop collapse(2)\n",
    "  do i = 1, n\n",
    "     do j = 1, n\n",
    "        do k = 1, n\n",
    "           C(i, j) = C(i, j) + A(i, k) * B(k, j)\n",
    "        end do\n",
    "     end do\n",
    "  end do\n",
    "  !$acc end parallel loop\n",
    "  !$acc end data\n",
    "\n",
    "  ! Get the end time\n",
    "  call system_clock(end_count)\n",
    "\n",
    "  ! Calculate the elapsed time in seconds\n",
    "  elapsed_time = real(end_count - start_count) / rate\n",
    "\n",
    "  ! Print the elapsed time\n",
    "  print '(I0, \" x \", I0, \"  \", F0.2, \" seconds\")', n, n, elapsed_time\n",
    "\n",
    "  ! Deallocate matrices\n",
    "  deallocate(A)\n",
    "  deallocate(B)\n",
    "  deallocate(C)\n",
    "\n",
    "end program matrix_multiply"
   ]
  },
  {
   "cell_type": "code",
   "execution_count": null,
   "id": "24fd91f7-3ef2-43e4-9ca9-ba12f4582811",
   "metadata": {
    "tags": []
   },
   "outputs": [],
   "source": [
    "!pgfortran mm-openacc.f90 -o mm-openacc -acc  "
   ]
  },
  {
   "cell_type": "code",
   "execution_count": null,
   "id": "8c76f21a-ac8f-41e2-917b-9815e102f06b",
   "metadata": {
    "tags": []
   },
   "outputs": [],
   "source": [
    "!./mm-openacc 1000"
   ]
  },
  {
   "cell_type": "markdown",
   "id": "nU4xEUl4yJL5",
   "metadata": {
    "id": "nU4xEUl4yJL5"
   },
   "source": [
    "### ⊗ OpenMP5"
   ]
  },
  {
   "cell_type": "code",
   "execution_count": null,
   "id": "Z6xMCqBeyJL5",
   "metadata": {
    "id": "Z6xMCqBeyJL5",
    "outputId": "28667a6c-a198-4ac1-b396-9cfbc87702de",
    "tags": []
   },
   "outputs": [],
   "source": [
    "%%writefile mm-omp5.c\n",
    "program matrix_multiply_openmp_offloading\n",
    "  use omp_lib\n",
    "  implicit none\n",
    "\n",
    "  integer :: n, i, j, k\n",
    "  real, allocatable :: A(:,:), B(:,:), C(:,:)\n",
    "  character(len=100) :: arg\n",
    "    \n",
    "  integer :: start_count, end_count, rate, count_max\n",
    "  real :: elapsed_time  \n",
    "\n",
    "  ! Get the command-line argument for the matrix size\n",
    "  call get_command_argument(1, arg)\n",
    "  read(arg, *) n\n",
    "\n",
    "  ! Allocate matrices\n",
    "  allocate(A(n, n))\n",
    "  allocate(B(n, n))\n",
    "  allocate(C(n, n))\n",
    "\n",
    "  ! Initialize matrices A and B\n",
    "  call random_number(A)\n",
    "  call random_number(B)\n",
    "  C = 0.0\n",
    "\n",
    "  ! Get the clock rate (ticks per second) and the maximum count value\n",
    "  call system_clock(count_max=count_max, count_rate=rate)\n",
    "\n",
    "  ! Get the start time\n",
    "  call system_clock(start_count)\n",
    "\n",
    "  ! Perform matrix multiplication using OpenMP 5.0 on GPU\n",
    "  !$omp target data map(to: A(1:lda, 1:i), B(1:ldb, 1:j)) map(tofrom: C(1:ldc, 1:k))\n",
    "  !$omp target teams distribute parallel for collapse(2) private(i,j,k) shared(A,B,C)\n",
    "  do i = 1, n\n",
    "     do j = 1, n\n",
    "        do k = 1, n\n",
    "           C(i, j) = C(i, j) + A(i, k) * B(k, j)\n",
    "         end do\n",
    "     end do\n",
    "  end do\n",
    "  !$omp end target teams distribute parallel for\n",
    "  !$omp end target data\n",
    "\n",
    "  ! Get the end time\n",
    "  call system_clock(end_count)\n",
    "\n",
    "  ! Calculate the elapsed time in seconds\n",
    "  elapsed_time = real(end_count - start_count) / rate\n",
    "\n",
    "  ! Print the elapsed time\n",
    "  print '(I0, \" x \", I0, \"  \", F0.2, \" seconds\")', n, n, elapsed_time\n",
    "\n",
    "  ! Deallocate matrices\n",
    "  deallocate(A)\n",
    "  deallocate(B)\n",
    "  deallocate(C)\n",
    "\n",
    "end program matrix_multiply_openmp_offloading"
   ]
  },
  {
   "cell_type": "code",
   "execution_count": null,
   "id": "CmLRUJvIyJL5",
   "metadata": {
    "id": "CmLRUJvIyJL5",
    "tags": []
   },
   "outputs": [],
   "source": [
    "!nvfortran mm-omp5.f90 -o mm-omp5 -stdpar=gpu"
   ]
  },
  {
   "cell_type": "code",
   "execution_count": null,
   "id": "bsaExBeTyJL6",
   "metadata": {
    "id": "bsaExBeTyJL6",
    "outputId": "901bf666-b753-49b7-a3a4-b1de58755b59",
    "tags": []
   },
   "outputs": [],
   "source": [
    "!./mm-omp5 1000"
   ]
  },
  {
   "cell_type": "markdown",
   "id": "4241eb5c-b38b-4357-81a3-3efa506b59c0",
   "metadata": {},
   "source": [
    "### Table with Comparison Performance Analysis using 1-GPU"
   ]
  },
  {
   "cell_type": "markdown",
   "id": "-s2IqLFfyJL6",
   "metadata": {
    "id": "-s2IqLFfyJL6"
   },
   "source": [
    "| Program Version      | Execution Time (sec.)  | Speedup      |\n",
    "| :---                 |    :----:              |        ---:  |\n",
    "| Serial               | 1.50                   | 1X           |\n",
    "| OpenMP T=36          | 0.06                   | 25X          |\n",
    "| OpenACC              | 0.57                   | 2.6X         | \n",
    "| OpenMP5              | 2.24                   | -            | "
   ]
  },
  {
   "cell_type": "markdown",
   "id": "189b2f95-d55f-4dd6-ad6c-a34d3e75078d",
   "metadata": {},
   "source": [
    "## Limpando os arquivos remanescentes"
   ]
  },
  {
   "cell_type": "code",
   "execution_count": null,
   "id": "a478244d-06c8-4588-bae9-01555ccd1842",
   "metadata": {},
   "outputs": [],
   "source": [
    "!rm -rf mm*"
   ]
  }
 ],
 "metadata": {
  "accelerator": "GPU",
  "colab": {
   "collapsed_sections": [
    "FUm5HQBwyJLm",
    "Jq8Zc_8byJLp",
    "bzhJyfWIyJLr",
    "bPQOHun4yJL6"
   ],
   "machine_shape": "hm",
   "provenance": [
    {
     "file_id": "https://github.com/muriloboratto/SIINTEC2022/blob/master/1-SIINTEC2022-Introduction.ipynb",
     "timestamp": 1666528573400
    }
   ]
  },
  "gpuClass": "premium",
  "kernelspec": {
   "display_name": "Python 3 (ipykernel)",
   "language": "python",
   "name": "python3"
  },
  "language_info": {
   "codemirror_mode": {
    "name": "ipython",
    "version": 3
   },
   "file_extension": ".py",
   "mimetype": "text/x-python",
   "name": "python",
   "nbconvert_exporter": "python",
   "pygments_lexer": "ipython3",
   "version": "3.8.8"
  }
 },
 "nbformat": 4,
 "nbformat_minor": 5
}
