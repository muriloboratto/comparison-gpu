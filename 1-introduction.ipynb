{
 "cells": [
  {
   "cell_type": "markdown",
   "id": "fRdbEJCUyJLj",
   "metadata": {
    "id": "fRdbEJCUyJLj"
   },
   "source": [
    "# Comparison APIs on GPU Environment"
   ]
  },
  {
   "cell_type": "markdown",
   "id": "FUm5HQBwyJLm",
   "metadata": {
    "id": "FUm5HQBwyJLm"
   },
   "source": [
    "## The Coding Environment"
   ]
  },
  {
   "cell_type": "markdown",
   "id": "m13auaYIyJLm",
   "metadata": {
    "id": "m13auaYIyJLm"
   },
   "source": [
    "For your work today, you have access to several computational resources in the cloud. Run the following cell to see the features available to you today."
   ]
  },
  {
   "cell_type": "code",
   "execution_count": 1,
   "id": "7a3ff15b-3853-49eb-91ca-220ff5d735b6",
   "metadata": {
    "tags": []
   },
   "outputs": [
    {
     "name": "stdout",
     "output_type": "stream",
     "text": [
      "Thu Jul 11 16:24:49 2024       \n",
      "+-----------------------------------------------------------------------------+\n",
      "| NVIDIA-SMI 525.60.13    Driver Version: 525.60.13    CUDA Version: 12.0     |\n",
      "|-------------------------------+----------------------+----------------------+\n",
      "| GPU  Name        Persistence-M| Bus-Id        Disp.A | Volatile Uncorr. ECC |\n",
      "| Fan  Temp  Perf  Pwr:Usage/Cap|         Memory-Usage | GPU-Util  Compute M. |\n",
      "|                               |                      |               MIG M. |\n",
      "|===============================+======================+======================|\n",
      "|   0  Quadro P6000        On   | 00000000:3B:00.0 Off |                  Off |\n",
      "| 26%   26C    P8     9W / 250W |     48MiB / 24576MiB |      0%      Default |\n",
      "|                               |                      |                  N/A |\n",
      "+-------------------------------+----------------------+----------------------+\n",
      "                                                                               \n",
      "+-----------------------------------------------------------------------------+\n",
      "| Processes:                                                                  |\n",
      "|  GPU   GI   CI        PID   Type   Process name                  GPU Memory |\n",
      "|        ID   ID                                                   Usage      |\n",
      "|=============================================================================|\n",
      "|    0   N/A  N/A      4331      G   /usr/libexec/Xorg                  41MiB |\n",
      "|    0   N/A  N/A      4569      G   /usr/bin/gnome-shell                4MiB |\n",
      "+-----------------------------------------------------------------------------+\n"
     ]
    }
   ],
   "source": [
    "!nvidia-smi"
   ]
  },
  {
   "cell_type": "code",
   "execution_count": null,
   "id": "yqipQLSmyJLn",
   "metadata": {
    "colab": {
     "base_uri": "https://localhost:8080/"
    },
    "executionInfo": {
     "elapsed": 328,
     "status": "ok",
     "timestamp": 1666529339545,
     "user": {
      "displayName": "Murilo Boratto",
      "userId": "13998345321799991370"
     },
     "user_tz": 180
    },
    "id": "yqipQLSmyJLn",
    "outputId": "24b09446-c372-475f-e4ce-bb2e292517e4"
   },
   "outputs": [],
   "source": [
    "!nvidia-smi topo -m "
   ]
  },
  {
   "cell_type": "markdown",
   "id": "Ws-Hn9CgyJLp",
   "metadata": {
    "id": "Ws-Hn9CgyJLp"
   },
   "source": [
    "While your work today will be on a single node, all the techniques you learn today, can be used to run your applications across clusters of multi-GPU nodes."
   ]
  },
  {
   "cell_type": "code",
   "execution_count": 2,
   "id": "4d9ccd79-70c5-40ca-a5aa-b160a49b870b",
   "metadata": {
    "tags": []
   },
   "outputs": [
    {
     "name": "stdout",
     "output_type": "stream",
     "text": [
      "nvcc: NVIDIA (R) Cuda compiler driver\n",
      "Copyright (c) 2005-2023 NVIDIA Corporation\n",
      "Built on Fri_Sep__8_19:17:24_PDT_2023\n",
      "Cuda compilation tools, release 12.3, V12.3.52\n",
      "Build cuda_12.3.r12.3/compiler.33281558_0\n"
     ]
    }
   ],
   "source": [
    "!nvcc --version"
   ]
  },
  {
   "cell_type": "code",
   "execution_count": 3,
   "id": "757cdfc5-a130-4ddd-aba7-b5b5bd1199e9",
   "metadata": {
    "tags": []
   },
   "outputs": [
    {
     "name": "stdout",
     "output_type": "stream",
     "text": [
      "\n",
      "pgcc (aka nvc) 23.11-0 64-bit target on Linux -tp skylake-avx512 \n",
      "PGI Compilers and Tools\n",
      "Copyright (c) 2023, NVIDIA CORPORATION & AFFILIATES.  All rights reserved.\n",
      "\n",
      "pgcc (aka nvc) 23.11-0 64-bit target on x86-64 Linux -tp skylake-avx512 \n",
      "PGI Compilers and Tools\n",
      "Copyright (c) 2023, NVIDIA CORPORATION & AFFILIATES.  All rights reserved.\n"
     ]
    }
   ],
   "source": [
    "!pgcc --version"
   ]
  },
  {
   "cell_type": "code",
   "execution_count": 4,
   "id": "f48e09af-246f-4e78-9025-f582aee5143a",
   "metadata": {
    "tags": []
   },
   "outputs": [
    {
     "name": "stdout",
     "output_type": "stream",
     "text": [
      "\n",
      "pgfortran (aka nvfortran) 23.11-0 64-bit target on x86-64 Linux -tp skylake-avx512 \n",
      "PGI Compilers and Tools\n",
      "Copyright (c) 2023, NVIDIA CORPORATION & AFFILIATES.  All rights reserved.\n"
     ]
    }
   ],
   "source": [
    "!pgfortran --version"
   ]
  },
  {
   "cell_type": "code",
   "execution_count": 5,
   "id": "d3378539-5c5f-4c19-a9f5-a45eac774214",
   "metadata": {
    "tags": []
   },
   "outputs": [
    {
     "name": "stdout",
     "output_type": "stream",
     "text": [
      "/bin/bash: clang: comando não encontrado\n"
     ]
    }
   ],
   "source": [
    "!clang --version"
   ]
  },
  {
   "cell_type": "markdown",
   "id": "89507cf3-343c-496e-b0ce-1bdfe6ce0435",
   "metadata": {},
   "source": [
    "## Environment Modules on AIRIS"
   ]
  },
  {
   "cell_type": "markdown",
   "id": "ae011059-a2b1-48be-b313-4d4b3cf43769",
   "metadata": {},
   "source": [
    "These modules must be initialized before running the jupyter-notebook:\n",
    "```cpp\n",
    "Currently Loaded Modulefiles:\n",
    "    1) anaconda3/2023.07     \n",
    "    2) ucx/1.15.0\n",
    "    3) openmpi/4.1.5  \n",
    "    4) nvhpc/23.11\n",
    "    5) llvm/12.0.0\n",
    "```"
   ]
  },
  {
   "cell_type": "code",
   "execution_count": null,
   "id": "94595812-2147-4f30-b757-fc41842699a9",
   "metadata": {},
   "outputs": [],
   "source": [
    "!module load anaconda3/2023.07 ucx/1.15.0 openmpi/4.1.5 nvhpc/23.11"
   ]
  },
  {
   "cell_type": "markdown",
   "id": "bzhJyfWIyJLr",
   "metadata": {
    "id": "bzhJyfWIyJLr"
   },
   "source": [
    "## `Matrix Multiple Benchmarks`"
   ]
  },
  {
   "cell_type": "markdown",
   "id": "XY0PHc4eyJLr",
   "metadata": {
    "id": "XY0PHc4eyJLr"
   },
   "source": [
    "### ⊗ Sequential"
   ]
  },
  {
   "cell_type": "code",
   "execution_count": 6,
   "id": "DcJxHVSzyJLr",
   "metadata": {
    "colab": {
     "base_uri": "https://localhost:8080/"
    },
    "executionInfo": {
     "elapsed": 271,
     "status": "ok",
     "timestamp": 1666529352426,
     "user": {
      "displayName": "Murilo Boratto",
      "userId": "13998345321799991370"
     },
     "user_tz": 180
    },
    "id": "DcJxHVSzyJLr",
    "outputId": "745549f1-3ecd-4f11-bf6c-4271e6e598b6",
    "tags": []
   },
   "outputs": [
    {
     "name": "stdout",
     "output_type": "stream",
     "text": [
      "Writing mm.c\n"
     ]
    }
   ],
   "source": [
    "%%writefile mm.c\n",
    "#include <stdio.h>\n",
    "#include <stdlib.h>\n",
    "#include <sys/time.h>\n",
    "\n",
    "void fill_matrix(double *A, int n){\n",
    "\n",
    "  for(int i = 0; i < n; i++)\n",
    "    for(int j = 0; j < n; j++)\n",
    "      A[i*n+j] = rand()%(10-1)*1;\n",
    "\n",
    "}\n",
    "\n",
    "void print_matrix(double *A, int n){\n",
    "\n",
    "  int i,j;\n",
    "\n",
    "  for(int i = 0; i < n; i++){\n",
    "    for(int j = 0; j < n; j++)\n",
    "      printf(\"%1.2f\\t\", A[i*n+j]);\n",
    "    printf(\"\\n\");\n",
    "  }\n",
    "\n",
    "  printf(\"\\n\");\n",
    "\n",
    "}\n",
    "\n",
    "int main(int argc, char **argv){\n",
    "\n",
    " int n = atoi(argv[1]);\n",
    " int i, j, k;\n",
    "\n",
    " double  *A = (double *) malloc (sizeof(double) * n * n);\n",
    " double  *B = (double *) malloc (sizeof(double) * n * n);\n",
    " double  *C = (double *) malloc (sizeof(double) * n * n);\n",
    "\n",
    " fill_matrix(A,n);\n",
    " fill_matrix(B,n);\n",
    "\n",
    " //Measuring time\n",
    "  struct timeval begin, end;\n",
    "  gettimeofday(&begin, 0);\n",
    "\n",
    " for(i = 0; i < n; i++)\n",
    "  for(j = 0; j < n; j++)\n",
    "    for(k = 0; k < n; k++)\n",
    "      C[i*n+j]+=A[i*n+k]*B[k*n+j];\n",
    "\n",
    " gettimeofday(&end, 0);\n",
    " double elapsed = (end.tv_sec - begin.tv_sec) + (end.tv_usec - begin.tv_usec)*1e-6;\n",
    "\n",
    " printf(\"%d x %d  %.3f seconds\\n\", n, n, elapsed);\n",
    "\n",
    " //print_matrix(A,n);\n",
    " //print_matrix(B,n);\n",
    " //print_matrix(C,n);\n",
    "\n",
    " return 0;\n",
    "}"
   ]
  },
  {
   "cell_type": "code",
   "execution_count": 7,
   "id": "G1nTnPVxyJLt",
   "metadata": {
    "id": "G1nTnPVxyJLt",
    "tags": []
   },
   "outputs": [],
   "source": [
    "!gcc mm.c -o mm -O3"
   ]
  },
  {
   "cell_type": "code",
   "execution_count": 8,
   "id": "OV8zXBHkyJLt",
   "metadata": {
    "colab": {
     "base_uri": "https://localhost:8080/"
    },
    "executionInfo": {
     "elapsed": 281,
     "status": "ok",
     "timestamp": 1666529362942,
     "user": {
      "displayName": "Murilo Boratto",
      "userId": "13998345321799991370"
     },
     "user_tz": 180
    },
    "id": "OV8zXBHkyJLt",
    "outputId": "ee343f9f-65cc-4563-ce60-5bbbd7fa389b",
    "tags": []
   },
   "outputs": [
    {
     "name": "stdout",
     "output_type": "stream",
     "text": [
      "1000 x 1000  1.244 seconds\n"
     ]
    }
   ],
   "source": [
    "!./mm 1000"
   ]
  },
  {
   "cell_type": "markdown",
   "id": "8XMxBMeLyJL1",
   "metadata": {
    "id": "8XMxBMeLyJL1"
   },
   "source": [
    "### ⊗ OpenMP"
   ]
  },
  {
   "cell_type": "code",
   "execution_count": 9,
   "id": "C_m8PlpyyJL1",
   "metadata": {
    "colab": {
     "base_uri": "https://localhost:8080/"
    },
    "executionInfo": {
     "elapsed": 246,
     "status": "ok",
     "timestamp": 1666529441953,
     "user": {
      "displayName": "Murilo Boratto",
      "userId": "13998345321799991370"
     },
     "user_tz": 180
    },
    "id": "C_m8PlpyyJL1",
    "outputId": "4cea6da7-f313-4504-85ef-04dfb23cca36",
    "tags": []
   },
   "outputs": [
    {
     "name": "stdout",
     "output_type": "stream",
     "text": [
      "Writing mm-omp.c\n"
     ]
    }
   ],
   "source": [
    "%%writefile mm-omp.c\n",
    "#include <stdio.h>\n",
    "#include <stdlib.h>\n",
    "#include <omp.h>\n",
    "#include <sys/time.h>\n",
    "\n",
    "void fill_matrix(double *A, int n)\n",
    "{\n",
    "  for(int i = 0; i < n; i++)\n",
    "    for(int j = 0; j < n; j++)\n",
    "      A[i*n+j] = rand()%(10-1)*1;\n",
    "}\n",
    "\n",
    "void print_matrix(double *A, int n)\n",
    "{\n",
    "  for(int i = 0; i < n; i++){\n",
    "    for(int j = 0; j < n; j++)\n",
    "      printf(\"%1.2f\\t\", A[i*n+j]);\n",
    "   printf(\"\\n\");\n",
    "  }\n",
    "\n",
    "  printf(\"\\n\");\n",
    "}\n",
    "\n",
    "int main(int argc, char **argv)\n",
    "{\n",
    "  int n = atoi(argv[1]);  \n",
    "  int i, j, k;\n",
    "  struct timeval begin, end;\n",
    "  \n",
    "  double  *A = (double *) malloc(sizeof(double) * n * n);\n",
    "  double  *B = (double *) malloc(sizeof(double) * n * n);\n",
    "  double  *C = (double *) malloc(sizeof(double) * n * n);\n",
    "\n",
    "  fill_matrix(A,n);\n",
    "  fill_matrix(B,n);\n",
    "\n",
    "  gettimeofday(&begin, 0);\n",
    "     \n",
    "  #pragma omp parallel for private(i,j,k)\n",
    "   for(i = 0; i < n; i++) \n",
    "    for(j = 0; j < n; j++)\n",
    "      for(k = 0; k < n; k++) \n",
    "        C[i*n+j] += A[i*n+k] * B[k*n+j];\n",
    "    \n",
    "   gettimeofday(&end, 0);\n",
    "  \n",
    "   long seconds = end.tv_sec - begin.tv_sec;\n",
    "   long microseconds = end.tv_usec - begin.tv_usec;\n",
    "   double elapsed = seconds + microseconds*1e-6;\n",
    "    \n",
    "   printf(\"%d x %d  %.2f seconds\\n\", n, n, elapsed);    \n",
    "    \n",
    "   //print_matrix(A,n);\n",
    "   //print_matrix(B,n);\n",
    "   //print_matrix(C,n);\n",
    "\n",
    "   return 0;\n",
    "}"
   ]
  },
  {
   "cell_type": "code",
   "execution_count": 10,
   "id": "2JgO0tpbyJL2",
   "metadata": {
    "id": "2JgO0tpbyJL2",
    "tags": []
   },
   "outputs": [],
   "source": [
    "!gcc mm-omp.c -o mm-omp -fopenmp -O3"
   ]
  },
  {
   "cell_type": "code",
   "execution_count": 11,
   "id": "nFLmUncjyJL2",
   "metadata": {
    "colab": {
     "base_uri": "https://localhost:8080/"
    },
    "executionInfo": {
     "elapsed": 646,
     "status": "ok",
     "timestamp": 1666529486235,
     "user": {
      "displayName": "Murilo Boratto",
      "userId": "13998345321799991370"
     },
     "user_tz": 180
    },
    "id": "nFLmUncjyJL2",
    "outputId": "75aaae82-fedf-4579-9b6e-6e2a968cfdbf",
    "tags": []
   },
   "outputs": [
    {
     "name": "stdout",
     "output_type": "stream",
     "text": [
      "1000 x 1000  0.06 seconds\n"
     ]
    }
   ],
   "source": [
    "!OMP_NUM_THREADS=32 ./mm-omp 1000"
   ]
  },
  {
   "cell_type": "markdown",
   "id": "pTgr8x0GyJL2",
   "metadata": {
    "id": "pTgr8x0GyJL2"
   },
   "source": [
    "### ⊗ CUDA"
   ]
  },
  {
   "cell_type": "code",
   "execution_count": 12,
   "id": "Ypu7QTttyJL3",
   "metadata": {
    "colab": {
     "base_uri": "https://localhost:8080/"
    },
    "executionInfo": {
     "elapsed": 8,
     "status": "ok",
     "timestamp": 1666556061590,
     "user": {
      "displayName": "Murilo Boratto",
      "userId": "13998345321799991370"
     },
     "user_tz": 180
    },
    "id": "Ypu7QTttyJL3",
    "outputId": "133eeb91-57b0-4892-eb59-9e4a6cac05db",
    "tags": []
   },
   "outputs": [
    {
     "name": "stdout",
     "output_type": "stream",
     "text": [
      "Writing mm-CUDA.cu\n"
     ]
    }
   ],
   "source": [
    "%%writefile mm-CUDA.cu\n",
    "#include <stdio.h>\n",
    "#include <stdlib.h>\n",
    "#include <cuda.h>\n",
    "#include <sys/time.h>\n",
    "\n",
    "__global__ void kernel(double *A, double *B, double *C, int n) \n",
    "{  \n",
    "  int i = blockIdx.x * blockDim.x + threadIdx.x;\n",
    "  int j = blockIdx.y * blockDim.y + threadIdx.y;\n",
    "\n",
    "  if(i < n && j < n)\n",
    "    for( int k = 0; k < n; k++) \n",
    "       C[i*n+j] += A[i*n+k] * B[k*n+j];\n",
    "\n",
    "}\n",
    " \n",
    "void mult_matrix_cpu(double *A, double *B, double *C, int n) \n",
    "{\n",
    "   for(int i = 0; i < n; i++) \n",
    "      for(int j = 0; j < n; j++)\n",
    "         for(int k = 0; k < n; k++) \n",
    "            C[i*n+j]+=A[i*n+k]*B[k*n+j];\n",
    "        \n",
    "}\n",
    "\n",
    "void fill_matrix(double *A, int n)\n",
    "{ \n",
    "   for(int i=0; i < n; i++)\n",
    "     for(int j=0; j < n; j++)\n",
    "       A[i*n+j] = rand()%(10-1)*1;\n",
    "   \n",
    "}\n",
    "\n",
    "void print_matrix(double *A, int n)\n",
    "{\n",
    "  for(int i = 0; i < n; i++){\n",
    "    for(int j = 0; j < n; j++)\n",
    "      printf(\"%1.2f\\t\", A[i*n+j]);\n",
    "    printf(\"\\n\");\n",
    "  }\n",
    "\n",
    "  printf(\"\\n\");\n",
    "\n",
    "}\n",
    "\n",
    "int main(int argc, char **argv)\n",
    "{\n",
    "    int n = atoi(argv[1]);\n",
    "    int sizeblock = atoi(argv[2]);\n",
    "    struct timeval begin, end;\n",
    "\n",
    "    /*Host*/\n",
    "    double *A_host=(double *) malloc (n * n * sizeof(double));\n",
    "    double *B_host=(double *) malloc (n * n * sizeof(double));\n",
    "    double *C_host=(double *) malloc (n * n * sizeof(double));\n",
    "        \n",
    "    fill_matrix(A_host,n);\n",
    "    fill_matrix(B_host,n);\n",
    "      \n",
    "    //print_matrix(A_host,n);\n",
    "    //print_matrix(B_host,n);\n",
    "\n",
    "    gettimeofday(&begin, 0);\n",
    "    \n",
    "    /*Device*/\n",
    "    double *A_device;\n",
    "    double *B_device;\n",
    "    double *C_device;\n",
    "\n",
    "    cudaMalloc((void**)&A_device, n * n * sizeof(double) ); \n",
    "    cudaMalloc((void**)&B_device, n * n * sizeof(double) ); \n",
    "    cudaMalloc((void**)&C_device, n * n * sizeof(double) ); \n",
    "\n",
    "    cudaMemcpy(A_device, A_host, n * n * sizeof(double), cudaMemcpyHostToDevice ); \n",
    "    cudaMemcpy(B_device, B_host, n * n * sizeof(double), cudaMemcpyHostToDevice ); \n",
    "\n",
    "    /*Computational GRID: (Grid: 2D Block: 2D)*/\n",
    "    dim3 NUMBER_OF_BLOCKS ( (int) ceil( (float) n / sizeblock), (int) ceil( (float)n / sizeblock) );\n",
    "    dim3 NUMBER_OF_THREADS( sizeblock, sizeblock);  \n",
    "\n",
    "          kernel<<< NUMBER_OF_BLOCKS, NUMBER_OF_THREADS >>>(A_device, B_device, C_device, n);      \n",
    "\n",
    "    cudaMemcpy(C_host, C_device, n * n * sizeof(double), cudaMemcpyDeviceToHost ); \n",
    "\n",
    "    //print_matrix(C_host, n );\n",
    "\n",
    "    gettimeofday(&end, 0);\n",
    "    \n",
    "    long seconds = end.tv_sec - begin.tv_sec;\n",
    "    long microseconds = end.tv_usec - begin.tv_usec;\n",
    "    double elapsed = seconds + microseconds*1e-6;\n",
    "    \n",
    "    printf(\"%d x %d  %.3f seconds\\n\", n, n, elapsed);  \n",
    "    \n",
    "    cudaFree(A_device );\n",
    "    cudaFree(B_device );\n",
    "    cudaFree(C_device );\n",
    "  \n",
    "    return 0;\n",
    "}"
   ]
  },
  {
   "cell_type": "code",
   "execution_count": 13,
   "id": "G9eK7uvvyJL3",
   "metadata": {
    "id": "G9eK7uvvyJL3",
    "tags": []
   },
   "outputs": [],
   "source": [
    "!nvcc mm-CUDA.cu -o mm-CUDA"
   ]
  },
  {
   "cell_type": "code",
   "execution_count": 14,
   "id": "9lQDO3hpyJL3",
   "metadata": {
    "colab": {
     "base_uri": "https://localhost:8080/"
    },
    "executionInfo": {
     "elapsed": 692,
     "status": "ok",
     "timestamp": 1666556070589,
     "user": {
      "displayName": "Murilo Boratto",
      "userId": "13998345321799991370"
     },
     "user_tz": 180
    },
    "id": "9lQDO3hpyJL3",
    "outputId": "d7a17746-13d9-405d-d122-c8e626b6a396",
    "tags": []
   },
   "outputs": [
    {
     "name": "stdout",
     "output_type": "stream",
     "text": [
      "1000 x 1000  0.181 seconds\n"
     ]
    }
   ],
   "source": [
    "!./mm-CUDA 1000 64"
   ]
  },
  {
   "cell_type": "markdown",
   "id": "eTtb7CD_yJL4",
   "metadata": {
    "id": "eTtb7CD_yJL4"
   },
   "source": [
    "### ⊗ OpenACC"
   ]
  },
  {
   "cell_type": "markdown",
   "id": "2477cb20-2a6d-4747-aad1-a9fb9b480747",
   "metadata": {},
   "source": [
    "#### C"
   ]
  },
  {
   "cell_type": "code",
   "execution_count": 15,
   "id": "ReO-ytcuyJL4",
   "metadata": {
    "id": "ReO-ytcuyJL4",
    "outputId": "eb1b7f54-b4fa-4f75-bb49-8cb64cabab36",
    "tags": []
   },
   "outputs": [
    {
     "name": "stdout",
     "output_type": "stream",
     "text": [
      "Writing mm-openacc.c\n"
     ]
    }
   ],
   "source": [
    "%%writefile mm-openacc.c\n",
    "#include <stdio.h>\n",
    "#include <stdlib.h>\n",
    "#include <sys/time.h>\n",
    "\n",
    "void fill_matrix(double *A, int n)\n",
    "{\n",
    "  for(int i = 0; i < n; i++)\n",
    "    for(int j = 0; j < n; j++)\n",
    "      A[i*n+j] = rand()%(10-1)*1; \n",
    "}\n",
    "\n",
    "void print_matrix(double *A, int n)\n",
    "{\n",
    "  for(int i = 0; i < n; i++){\n",
    "    for(int j = 0; j < n; j++)\n",
    "      printf(\"%1.2f\\t\", A[i*n+j]);\n",
    "    printf(\"\\n\");\n",
    "  }\n",
    "\n",
    "  printf(\"\\n\");\n",
    "\n",
    "}\n",
    "\n",
    "int main(int argc, char **argv)\n",
    "{\n",
    "  int n = atoi(argv[1]);  \n",
    "  int i, j, k;\n",
    "  struct timeval begin, end;\n",
    " \n",
    "  double *A = (double *) malloc (sizeof(double) * n * n);\n",
    "  double *B = (double *) malloc (sizeof(double) * n * n);\n",
    "  double *C = (double *) malloc (sizeof(double) * n * n);\n",
    "\n",
    "  fill_matrix(A,n);\n",
    "  fill_matrix(B,n);\n",
    " \n",
    "  gettimeofday(&begin, 0);\n",
    "      \n",
    "  #pragma acc data present_or_copyin(A[:n*n], B[:n*n], n) copyout(C[:n*n])\n",
    "   #pragma acc parallel \n",
    "    #pragma acc loop\n",
    "     for(i = 0; i < n; i++) \n",
    "       for(j = 0; j < n; j++)\n",
    "         for(k = 0; k < n; k++) \n",
    "           C[i*n+j] += A[i*n+k] * B[k*n+j];\n",
    "\n",
    "   gettimeofday(&end, 0); \n",
    "  \n",
    "   long seconds = end.tv_sec - begin.tv_sec;\n",
    "   long microseconds = end.tv_usec - begin.tv_usec;\n",
    "   double elapsed = seconds + microseconds*1e-6;\n",
    "    \n",
    "    printf(\"%d x %d  %.2f seconds\\n\", n, n, elapsed);  \n",
    "     \n",
    "  //print_matrix(A,n);\n",
    "  //print_matrix(B,n);\n",
    "  //print_matrix(C,n);\n",
    "\n",
    "  return 0;\n",
    "}"
   ]
  },
  {
   "cell_type": "code",
   "execution_count": 16,
   "id": "Aif58O7xyJL4",
   "metadata": {
    "id": "Aif58O7xyJL4",
    "outputId": "42717882-1845-4955-f24b-ae1688da9cc5",
    "tags": []
   },
   "outputs": [],
   "source": [
    "!pgcc mm-openacc.c -o mm-openacc -acc"
   ]
  },
  {
   "cell_type": "code",
   "execution_count": 17,
   "id": "YNr5hHVYyJL5",
   "metadata": {
    "id": "YNr5hHVYyJL5",
    "outputId": "d311bd04-2828-4c37-ec76-643995de17ca",
    "tags": []
   },
   "outputs": [
    {
     "name": "stdout",
     "output_type": "stream",
     "text": [
      "1000 x 1000  0.47 seconds\n"
     ]
    }
   ],
   "source": [
    "!./mm-openacc 1000"
   ]
  },
  {
   "cell_type": "markdown",
   "id": "c9cb685e-bc16-44de-a916-6a490004a284",
   "metadata": {},
   "source": [
    "#### Fortran"
   ]
  },
  {
   "cell_type": "code",
   "execution_count": 18,
   "id": "1cddbec8-7c85-4716-9daa-c0a1018a1190",
   "metadata": {
    "tags": []
   },
   "outputs": [
    {
     "name": "stdout",
     "output_type": "stream",
     "text": [
      "Writing mm-fortran.f90\n"
     ]
    }
   ],
   "source": [
    "%%writefile mm-fortran.f90\n",
    "program matrix_multiply\n",
    "  use openacc\n",
    "  implicit none\n",
    "\n",
    "  integer :: n, i, j, k\n",
    "  real, allocatable :: A(:,:), B(:,:), C(:,:)\n",
    "  character(len=100) :: arg\n",
    "    \n",
    "  integer :: start_count, end_count, rate, count_max\n",
    "  real :: elapsed_time  \n",
    "\n",
    "  ! Get the command-line argument for the matrix size\n",
    "  call get_command_argument(1, arg)\n",
    "  read(arg, *) n\n",
    "\n",
    "  ! Allocate matrices\n",
    "  allocate(A(n, n))\n",
    "  allocate(B(n, n))\n",
    "  allocate(C(n, n))\n",
    "\n",
    "  ! Initialize matrices A and B\n",
    "  call random_number(A)\n",
    "  call random_number(B)\n",
    "  C = 0.0\n",
    "\n",
    "  ! Get the clock rate (ticks per second) and the maximum count value\n",
    "  call system_clock(count_max=count_max, count_rate=rate)\n",
    "\n",
    "  ! Get the start time\n",
    "  call system_clock(start_count)\n",
    "\n",
    "  ! Matrix multiplication using OpenACC\n",
    "  !$acc data copyin(A, B), copyout(C)\n",
    "  !$acc parallel loop collapse(2)\n",
    "  do i = 1, n\n",
    "     do j = 1, n\n",
    "        do k = 1, n\n",
    "           C(i, j) = C(i, j) + A(i, k) * B(k, j)\n",
    "        end do\n",
    "     end do\n",
    "  end do\n",
    "  !$acc end parallel loop\n",
    "  !$acc end data\n",
    "\n",
    "  ! Get the end time\n",
    "  call system_clock(end_count)\n",
    "\n",
    "  ! Calculate the elapsed time in seconds\n",
    "  elapsed_time = real(end_count - start_count) / rate\n",
    "\n",
    "  ! Print the elapsed time\n",
    "  print '(I0, \" x \", I0, \"  \", F0.2, \" seconds\")', n, n, elapsed_time\n",
    "\n",
    "  ! Deallocate matrices\n",
    "  deallocate(A)\n",
    "  deallocate(B)\n",
    "  deallocate(C)\n",
    "\n",
    "end program matrix_multiply"
   ]
  },
  {
   "cell_type": "code",
   "execution_count": 19,
   "id": "24fd91f7-3ef2-43e4-9ca9-ba12f4582811",
   "metadata": {
    "tags": []
   },
   "outputs": [],
   "source": [
    "!pgfortran mm-fortran.f90 -o mm-fortran -acc  "
   ]
  },
  {
   "cell_type": "code",
   "execution_count": 20,
   "id": "8c76f21a-ac8f-41e2-917b-9815e102f06b",
   "metadata": {
    "tags": []
   },
   "outputs": [
    {
     "name": "stdout",
     "output_type": "stream",
     "text": [
      "1000 x 1000  0.12 seconds\n"
     ]
    }
   ],
   "source": [
    "!./mm-fortran 1000"
   ]
  },
  {
   "cell_type": "markdown",
   "id": "nU4xEUl4yJL5",
   "metadata": {
    "id": "nU4xEUl4yJL5"
   },
   "source": [
    "### ⊗ OpenMP5"
   ]
  },
  {
   "cell_type": "code",
   "execution_count": 21,
   "id": "Z6xMCqBeyJL5",
   "metadata": {
    "id": "Z6xMCqBeyJL5",
    "outputId": "28667a6c-a198-4ac1-b396-9cfbc87702de",
    "tags": []
   },
   "outputs": [
    {
     "name": "stdout",
     "output_type": "stream",
     "text": [
      "Writing mm-omp5.c\n"
     ]
    }
   ],
   "source": [
    "%%writefile mm-omp5.c\n",
    "#include <stdio.h>\n",
    "#include <stdlib.h>\n",
    "#include <omp.h>\n",
    "#include <sys/time.h>\n",
    "\n",
    "void fill_matrix(double *A, int n)\n",
    "{ \n",
    "  for(int i = 0; i < n; i++)\n",
    "    for(int j = 0; j < n; j++)\n",
    "      A[i*n+j] = rand()%(10-1)*1; \n",
    "}\n",
    "\n",
    "void print_matrix(double *A, int n)\n",
    "{\n",
    "  for(int i = 0; i < n; i++){\n",
    "    for(int j = 0; j < n; j++)\n",
    "      printf(\"%1.2f\\t\", A[i*n+j]);\n",
    "    printf(\"\\n\");\n",
    "  }\n",
    "  \n",
    "  printf(\"\\n\");\n",
    "}\n",
    "\n",
    "int main(int argc, char **argv)\n",
    "{\n",
    "  int n = atoi(argv[1]);  \n",
    "  int i, j, k;\n",
    "  struct timeval begin, end;\n",
    "\n",
    "  double  *A = (double *) malloc (sizeof(double) * n * n);\n",
    "  double  *B = (double *) malloc (sizeof(double) * n * n);\n",
    "  double  *C = (double *) malloc (sizeof(double) * n * n);\n",
    "\n",
    "  fill_matrix(A,n);\n",
    "  fill_matrix(B,n);\n",
    "\n",
    "  gettimeofday(&begin, 0);\n",
    "    \n",
    "  #pragma omp target data map(to:A[:n*n], B[:n*n], n) map(from:C[:n*n])\n",
    "  {\n",
    "   #pragma omp target teams distribute parallel for private(i,j,k)\n",
    "   for(i = 0; i < n; i++) \n",
    "     for(j = 0; j < n; j++)\n",
    "       for(k = 0; k < n; k++) \n",
    "         C[i*n+j] += A[i*n+k] * B[k*n+j];\n",
    "  }\n",
    "\n",
    "   gettimeofday(&end, 0); \n",
    "    \n",
    "   long seconds = end.tv_sec - begin.tv_sec;\n",
    "   long microseconds = end.tv_usec - begin.tv_usec;\n",
    "   double elapsed = seconds + microseconds*1e-6;\n",
    "    \n",
    "    printf(\"%d x %d  %.2f seconds\\n\", n, n, elapsed);   \n",
    "  \n",
    "  //print_matrix(A,n);\n",
    "  //print_matrix(B,n);\n",
    "  //print_matrix(C,n);\n",
    "\n",
    "  return 0;\n",
    "}"
   ]
  },
  {
   "cell_type": "code",
   "execution_count": null,
   "id": "CmLRUJvIyJL5",
   "metadata": {
    "id": "CmLRUJvIyJL5",
    "tags": []
   },
   "outputs": [],
   "source": [
    "!clang mm-omp5.c -o mm-omp5 -fopenmp -fopenmp-targets=nvptx64-nvidia-cuda"
   ]
  },
  {
   "cell_type": "code",
   "execution_count": null,
   "id": "bsaExBeTyJL6",
   "metadata": {
    "id": "bsaExBeTyJL6",
    "outputId": "901bf666-b753-49b7-a3a4-b1de58755b59"
   },
   "outputs": [],
   "source": [
    "!./mm-omp5 1000"
   ]
  },
  {
   "cell_type": "markdown",
   "id": "4241eb5c-b38b-4357-81a3-3efa506b59c0",
   "metadata": {},
   "source": [
    "### Table with Comparison Performance Analysis using 1-GPU"
   ]
  },
  {
   "cell_type": "markdown",
   "id": "-s2IqLFfyJL6",
   "metadata": {
    "id": "-s2IqLFfyJL6"
   },
   "source": [
    "| Program Version      | Execution Time (sec.)  | Speedup      |\n",
    "| :---                 |    :----:              |        ---:  |\n",
    "| Serial               | 1.50                   | 1X           |\n",
    "| OpenMP T=36          | 0.06                   | 25X          |\n",
    "| OpenACC              | 0.57                   | 2.63X        | \n",
    "| CUDA                 | 0.20                   | 7.5X         | \n",
    "| OpenMP5              | 2.24                   | -            | "
   ]
  },
  {
   "cell_type": "markdown",
   "id": "189b2f95-d55f-4dd6-ad6c-a34d3e75078d",
   "metadata": {},
   "source": [
    "## Limpando os arquivos remanescentes"
   ]
  },
  {
   "cell_type": "code",
   "execution_count": null,
   "id": "a478244d-06c8-4588-bae9-01555ccd1842",
   "metadata": {},
   "outputs": [],
   "source": [
    "!rm -rf mm*"
   ]
  }
 ],
 "metadata": {
  "accelerator": "GPU",
  "colab": {
   "collapsed_sections": [
    "FUm5HQBwyJLm",
    "Jq8Zc_8byJLp",
    "bzhJyfWIyJLr",
    "bPQOHun4yJL6"
   ],
   "machine_shape": "hm",
   "provenance": [
    {
     "file_id": "https://github.com/muriloboratto/SIINTEC2022/blob/master/1-SIINTEC2022-Introduction.ipynb",
     "timestamp": 1666528573400
    }
   ]
  },
  "gpuClass": "premium",
  "kernelspec": {
   "display_name": "Python 3 (ipykernel)",
   "language": "python",
   "name": "python3"
  },
  "language_info": {
   "codemirror_mode": {
    "name": "ipython",
    "version": 3
   },
   "file_extension": ".py",
   "mimetype": "text/x-python",
   "name": "python",
   "nbconvert_exporter": "python",
   "pygments_lexer": "ipython3",
   "version": "3.8.8"
  }
 },
 "nbformat": 4,
 "nbformat_minor": 5
}
